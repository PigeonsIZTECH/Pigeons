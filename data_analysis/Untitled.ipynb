{
 "cells": [
  {
   "cell_type": "code",
   "execution_count": 1,
   "id": "5490b5bf-5edb-482a-9869-acd039ac2abf",
   "metadata": {},
   "outputs": [],
   "source": [
    "# Load packages into current runtime\n",
    "import datetime as dt\n",
    "import getpass\n",
    "\n",
    "import numpy as np\n",
    "import xarray as xr\n",
    "import cartopy.crs as ccrs\n",
    "import cartopy.feature as cfeature\n",
    "import matplotlib.pyplot as plt\n",
    "from cartopy.mpl.gridliner import LONGITUDE_FORMATTER, LATITUDE_FORMATTER\n",
    "from xarray.plot.utils import label_from_attrs\n",
    "\n",
    "from harmony import BBox, Client, Collection, Request\n",
    "from harmony.config import Environment"
   ]
  },
  {
   "cell_type": "code",
   "execution_count": 2,
   "id": "ed54938b-5b9c-4fab-b778-e4e44d91bcca",
   "metadata": {},
   "outputs": [
    {
     "name": "stdout",
     "output_type": "stream",
     "text": [
      "Please provide your Earthdata Login credentials to allow data access\n",
      "Your credentials will only be passed to Earthdata and will not be exposed in the notebook\n"
     ]
    },
    {
     "name": "stdin",
     "output_type": "stream",
     "text": [
      "Username: siyabend65\n",
      " ········\n"
     ]
    },
    {
     "ename": "BadAuthentication",
     "evalue": "Authentication: incorrect or missing credentials during credential validation.",
     "output_type": "error",
     "traceback": [
      "\u001b[31m---------------------------------------------------------------------------\u001b[39m",
      "\u001b[31mBadAuthentication\u001b[39m                         Traceback (most recent call last)",
      "\u001b[36mCell\u001b[39m\u001b[36m \u001b[39m\u001b[32mIn[2]\u001b[39m\u001b[32m, line 5\u001b[39m\n\u001b[32m      2\u001b[39m \u001b[38;5;28mprint\u001b[39m(\u001b[33m\"\u001b[39m\u001b[33mYour credentials will only be passed to Earthdata and will not be exposed in the notebook\u001b[39m\u001b[33m\"\u001b[39m)\n\u001b[32m      3\u001b[39m username = \u001b[38;5;28minput\u001b[39m(\u001b[33m\"\u001b[39m\u001b[33mUsername:\u001b[39m\u001b[33m\"\u001b[39m)\n\u001b[32m----> \u001b[39m\u001b[32m5\u001b[39m harmony_client = \u001b[43mClient\u001b[49m\u001b[43m(\u001b[49m\u001b[43menv\u001b[49m\u001b[43m=\u001b[49m\u001b[43mEnvironment\u001b[49m\u001b[43m.\u001b[49m\u001b[43mPROD\u001b[49m\u001b[43m,\u001b[49m\u001b[43m \u001b[49m\u001b[43mauth\u001b[49m\u001b[43m=\u001b[49m\u001b[43m(\u001b[49m\u001b[43musername\u001b[49m\u001b[43m,\u001b[49m\u001b[43m \u001b[49m\u001b[43mgetpass\u001b[49m\u001b[43m.\u001b[49m\u001b[43mgetpass\u001b[49m\u001b[43m(\u001b[49m\u001b[43m)\u001b[49m\u001b[43m)\u001b[49m\u001b[43m)\u001b[49m\n",
      "\u001b[36mFile \u001b[39m\u001b[32m~/nasa/Pigeons/.venv/lib/python3.13/site-packages/harmony/client.py:158\u001b[39m, in \u001b[36mClient.__init__\u001b[39m\u001b[34m(self, auth, should_validate_auth, env, token, check_interval)\u001b[39m\n\u001b[32m    155\u001b[39m \u001b[38;5;28mself\u001b[39m.executor = ThreadPoolExecutor(max_workers=num_workers)\n\u001b[32m    157\u001b[39m \u001b[38;5;28;01mif\u001b[39;00m should_validate_auth:\n\u001b[32m--> \u001b[39m\u001b[32m158\u001b[39m     \u001b[43mvalidate_auth\u001b[49m\u001b[43m(\u001b[49m\u001b[38;5;28;43mself\u001b[39;49m\u001b[43m.\u001b[49m\u001b[43mconfig\u001b[49m\u001b[43m,\u001b[49m\u001b[43m \u001b[49m\u001b[38;5;28;43mself\u001b[39;49m\u001b[43m.\u001b[49m\u001b[43m_session\u001b[49m\u001b[43m(\u001b[49m\u001b[43m)\u001b[49m\u001b[43m)\u001b[49m\n",
      "\u001b[36mFile \u001b[39m\u001b[32m~/nasa/Pigeons/.venv/lib/python3.13/site-packages/harmony/auth.py:150\u001b[39m, in \u001b[36mvalidate_auth\u001b[39m\u001b[34m(config, session)\u001b[39m\n\u001b[32m    148\u001b[39m     \u001b[38;5;28;01mreturn\u001b[39;00m\n\u001b[32m    149\u001b[39m \u001b[38;5;28;01melif\u001b[39;00m response.status_code == \u001b[32m401\u001b[39m:\n\u001b[32m--> \u001b[39m\u001b[32m150\u001b[39m     \u001b[38;5;28;01mraise\u001b[39;00m BadAuthentication(\u001b[33m'\u001b[39m\u001b[33mAuthentication: incorrect or missing credentials during \u001b[39m\u001b[33m'\u001b[39m\n\u001b[32m    151\u001b[39m                             \u001b[33m'\u001b[39m\u001b[33mcredential validation.\u001b[39m\u001b[33m'\u001b[39m)\n\u001b[32m    152\u001b[39m \u001b[38;5;28;01melse\u001b[39;00m:\n\u001b[32m    153\u001b[39m     \u001b[38;5;28;01mraise\u001b[39;00m BadAuthentication(\u001b[33mf\u001b[39m\u001b[33m'\u001b[39m\u001b[33mAuthentication: An unknown error occurred during credential \u001b[39m\u001b[33m'\u001b[39m\n\u001b[32m    154\u001b[39m                             \u001b[33mf\u001b[39m\u001b[33m'\u001b[39m\u001b[33mvalidation: HTTP \u001b[39m\u001b[38;5;132;01m{\u001b[39;00mresponse.status_code\u001b[38;5;132;01m}\u001b[39;00m\u001b[33m'\u001b[39m)\n",
      "\u001b[31mBadAuthentication\u001b[39m: Authentication: incorrect or missing credentials during credential validation."
     ]
    }
   ],
   "source": [
    "print(\"Please provide your Earthdata Login credentials to allow data access\")\n",
    "print(\"Your credentials will only be passed to Earthdata and will not be exposed in the notebook\")\n",
    "username = input(\"Username:\")\n",
    "\n",
    "harmony_client = Client(env=Environment.PROD, auth=(username, getpass.getpass()))"
   ]
  },
  {
   "cell_type": "code",
   "execution_count": null,
   "id": "3e9e9a99-5aaa-4daf-9c28-b5105626be2f",
   "metadata": {},
   "outputs": [],
   "source": []
  }
 ],
 "metadata": {
  "kernelspec": {
   "display_name": "nasa_project",
   "language": "python",
   "name": "nasa_project"
  },
  "language_info": {
   "codemirror_mode": {
    "name": "ipython",
    "version": 3
   },
   "file_extension": ".py",
   "mimetype": "text/x-python",
   "name": "python",
   "nbconvert_exporter": "python",
   "pygments_lexer": "ipython3",
   "version": "3.13.7"
  }
 },
 "nbformat": 4,
 "nbformat_minor": 5
}
