{
 "cells": [
  {
   "cell_type": "code",
   "execution_count": 1,
   "id": "5490b5bf-5edb-482a-9869-acd039ac2abf",
   "metadata": {},
   "outputs": [],
   "source": [
    "# Load packages into current runtime\n",
    "import datetime as dt\n",
    "import getpass\n",
    "\n",
    "import numpy as np\n",
    "import xarray as xr\n",
    "import cartopy.crs as ccrs\n",
    "import cartopy.feature as cfeature\n",
    "import matplotlib.pyplot as plt\n",
    "from cartopy.mpl.gridliner import LONGITUDE_FORMATTER, LATITUDE_FORMATTER\n",
    "from xarray.plot.utils import label_from_attrs\n",
    "\n",
    "from harmony import BBox, Client, Collection, Request\n",
    "from harmony.config import Environment"
   ]
  }
 ],
 "metadata": {
  "kernelspec": {
   "display_name": "nasa_project",
   "language": "python",
   "name": "nasa_project"
  },
  "language_info": {
   "codemirror_mode": {
    "name": "ipython",
    "version": 3
   },
   "file_extension": ".py",
   "mimetype": "text/x-python",
   "name": "python",
   "nbconvert_exporter": "python",
   "pygments_lexer": "ipython3",
   "version": "3.13.7"
  }
 },
 "nbformat": 4,
 "nbformat_minor": 5
}
